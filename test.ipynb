{
  "nbformat": 4,
  "nbformat_minor": 0,
  "metadata": {
    "colab": {
      "name": "pathrise.ipynb",
      "version": "0.3.2",
      "provenance": []
    },
    "kernelspec": {
      "name": "python3",
      "display_name": "Python 3"
    }
  },
  "cells": [
    {
      "metadata": {
        "id": "FEo1HYUoxxhE",
        "colab_type": "text"
      },
      "cell_type": "markdown",
      "source": [
        "## Dec 15: k most frequent elements\n",
        "\n",
        "**Description**:\n",
        "\n",
        "Given a non-empty list of words, return the k most frequent elements.\n",
        "\n",
        "Note: Your answer should be sorted by frequency from highest to lowest. If two words have the same frequency, then the word with the lower alphabetical order comes first.\n",
        "\n",
        "**Examples**:\n",
        "\n",
        "```\n",
        "Input: [\"hello\", \"i\", \"love\", \"pathrise\", \"i\", \"love\", \"coding\"], k = 2\n",
        "Output: [\"i\", \"love\"]\n",
        "Explanation: \"i\" and \"love\" are the two most frequent words. “i” comes before “love” due to a lower alphabetical order\n",
        "\n",
        "Input: [\"the\", \"day\", \"is\", \"sunny\", \"the\", \"the\", \"the\", \"sunny\", \"is\", \"is\"], k = 4\n",
        "Output: [\"the\", \"is\", \"sunny\", \"day\"]\n",
        "Explanation: \"the\", \"is\", \"sunny\" and \"day\" are the four most frequent words, with the number of occurrence being 4, 3, 2 and 1 respectively.\n",
        "```\n",
        "\n",
        "Approach 1: count + sort, time: O(NlogN)\n",
        "\n",
        "Approach 2: \n",
        "\n",
        "Approach 4: Bucket sort + trie\n",
        "\n"
      ]
    },
    {
      "metadata": {
        "id": "wbPp8UQVx7wt",
        "colab_type": "code",
        "colab": {}
      },
      "cell_type": "code",
      "source": [
        ""
      ],
      "execution_count": 0,
      "outputs": []
    }
  ]
}